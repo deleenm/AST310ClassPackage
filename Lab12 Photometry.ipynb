{
 "cells": [
  {
   "cell_type": "markdown",
   "metadata": {},
   "source": [
    "# Lab 12: Photometry\n",
    "Based on the AAS2016 photuntls tutorial.\n",
    "- Documentation: https://photutils.readthedocs.io/en/stable/\n"
   ]
  },
  {
   "cell_type": "markdown",
   "metadata": {},
   "source": [
    "Name: "
   ]
  },
  {
   "cell_type": "markdown",
   "metadata": {},
   "source": [
    "## What is Aperture Photometry?\n",
    "Aperture photometry is one method we use to convert astronomical images into measurements of brightness for individual stars. In this particular case we will use circular apertures for stars, but the same basic principals work for ellipse etc. around galaxies and other diffuse objects. The fundamental idea is to sum up the number of counts in the aperture to determine how many photons where observed. We also need to subtract off background photons."
   ]
  },
  {
   "cell_type": "code",
   "execution_count": null,
   "metadata": {},
   "outputs": [],
   "source": [
    "# initial imports\n",
    "import numpy as np\n",
    "import matplotlib.pyplot as plt\n",
    "from astropy.io import fits\n",
    "import scipy.stats\n",
    "\n",
    "# change some default plotting parameters\n",
    "import matplotlib as mpl\n",
    "mpl.rcParams['image.origin'] = 'lower'\n",
    "mpl.rcParams['image.interpolation'] = 'nearest'\n",
    "mpl.rcParams['image.cmap'] = 'Greys_r'\n",
    "\n",
    "# run the %matplotlib magic command to enable inline plotting\n",
    "# in the current Notebook\n",
    "%matplotlib inline"
   ]
  },
  {
   "cell_type": "markdown",
   "metadata": {},
   "source": [
    "## Load our image"
   ]
  },
  {
   "cell_type": "code",
   "execution_count": null,
   "metadata": {},
   "outputs": [],
   "source": [
    "#Read in our image\n",
    "hdulist = fits.open('data/aa_aql0007.fits')\n",
    "hdulist.info()\n",
    "prihdr = hdulist[0].header\n",
    "image_data = hdulist[0].data.astype(np.float) #Ensure a good data type\n",
    "image_data = image_data[0:600,0:600] #Shrink our image"
   ]
  },
  {
   "cell_type": "code",
   "execution_count": null,
   "metadata": {},
   "outputs": [],
   "source": [
    "#Get Useful header info\n",
    "read_noise = np.float(prihdr['rdnoise'])\n",
    "gain = np.float(prihdr['gain'])\n",
    "exptime = np.float(prihdr['exptime'])\n",
    "print(read_noise)\n",
    "print(gain)\n",
    "print(exptime)"
   ]
  },
  {
   "cell_type": "markdown",
   "metadata": {},
   "source": [
    "## Gain\n",
    "The image needs to be in electrons per second"
   ]
  },
  {
   "cell_type": "code",
   "execution_count": null,
   "metadata": {},
   "outputs": [],
   "source": [
    "image_data = image_data * gain"
   ]
  },
  {
   "cell_type": "code",
   "execution_count": null,
   "metadata": {},
   "outputs": [],
   "source": [
    "#View our image\n",
    "from astropy.visualization import ZScaleInterval\n",
    "interval = ZScaleInterval()\n",
    "(imin,imax) = interval.get_limits(image_data)\n",
    "plt.imshow(image_data, vmin=imin,vmax=imax)\n",
    "plt.colorbar()"
   ]
  },
  {
   "cell_type": "markdown",
   "metadata": {},
   "source": [
    "## Defining Apertures\n",
    "For stellar photometry we will use circular apertures. Let's take an aperture radius 15 pixels around a star at (439.795,502.256) python space. Apertures are defined using (x,y) instead of (y,x) and start counting from (0,0). Apertures can be defined in several different ways because we are going from a continuous space to a discrete one. \n",
    "![](data/photutils_aperture_methods.svg)"
   ]
  },
  {
   "cell_type": "code",
   "execution_count": null,
   "metadata": {},
   "outputs": [],
   "source": [
    "from photutils import CircularAperture, aperture_photometry\n",
    "# define the aperture\n",
    "position = (502.256,439.795)\n",
    "radius = 15\n",
    "aperture = CircularAperture(position, r=radius)"
   ]
  },
  {
   "cell_type": "code",
   "execution_count": null,
   "metadata": {},
   "outputs": [],
   "source": [
    "# center method\n",
    "phot = aperture_photometry(image_data, aperture,  method='center')\n",
    "phot"
   ]
  },
  {
   "cell_type": "code",
   "execution_count": null,
   "metadata": {},
   "outputs": [],
   "source": [
    "# subpixel method, subpixels=5 (same as Source Extractor (SExtractor))\n",
    "phot = aperture_photometry(image_data, aperture,  method='subpixel', subpixels=5)\n",
    "phot"
   ]
  },
  {
   "cell_type": "code",
   "execution_count": null,
   "metadata": {},
   "outputs": [],
   "source": [
    "# perform the photometry; the default method is 'exact'\n",
    "phot = aperture_photometry(image_data, aperture)\n",
    "phot"
   ]
  },
  {
   "cell_type": "markdown",
   "metadata": {
    "collapsed": true
   },
   "source": [
    "## Photometric Error\n",
    "The Error in our photometry comes from two sources counting/Poisson noise and readnoise. We will assume that these two noise sources are independent, so we will add them in quadrature. Poisson noise is the square root of the counts."
   ]
  },
  {
   "cell_type": "code",
   "execution_count": null,
   "metadata": {},
   "outputs": [],
   "source": [
    "fixed_data = image_data\n",
    "fixed_data[(fixed_data < 0)] = 0\n",
    "poisson = np.sqrt(fixed_data/gain)\n",
    "error = np.sqrt(poisson**2 + read_noise**2)"
   ]
  },
  {
   "cell_type": "code",
   "execution_count": null,
   "metadata": {},
   "outputs": [],
   "source": [
    "# input the data units\n",
    "import astropy.units as u\n",
    "unit = u.electron / u.s\n",
    "phot = aperture_photometry(image_data, aperture, error=error, unit=unit)\n",
    "phot"
   ]
  },
  {
   "cell_type": "markdown",
   "metadata": {},
   "source": [
    "## Multiple Positions"
   ]
  },
  {
   "cell_type": "code",
   "execution_count": null,
   "metadata": {},
   "outputs": [],
   "source": [
    "positions = [(502.256,439.795), (354.291,363.823)]\n",
    "radius = 15.\n",
    "apertures = CircularAperture(positions, r=radius)\n",
    "phot = aperture_photometry(image_data, apertures, error=error,unit=unit)\n",
    "phot"
   ]
  },
  {
   "cell_type": "code",
   "execution_count": null,
   "metadata": {},
   "outputs": [],
   "source": [
    "from astropy.visualization import ZScaleInterval\n",
    "interval = ZScaleInterval()\n",
    "(imin,imax) = interval.get_limits(image_data)\n",
    "plt.imshow(image_data, vmin=imin,vmax=imax)\n",
    "plt.colorbar()\n",
    "apertures.plot(color='blue')"
   ]
  },
  {
   "cell_type": "markdown",
   "metadata": {},
   "source": [
    "## Measure Sky Background\n",
    "We want to remove the sky background from our pixels. Note the sky background does contribute to the noise"
   ]
  },
  {
   "cell_type": "code",
   "execution_count": null,
   "metadata": {},
   "outputs": [],
   "source": [
    "from photutils import CircularAnnulus\n",
    "bkg_apertures = CircularAnnulus(positions, r_in=30., r_out=35.)"
   ]
  },
  {
   "cell_type": "code",
   "execution_count": null,
   "metadata": {},
   "outputs": [],
   "source": [
    "from astropy.visualization import ZScaleInterval\n",
    "interval = ZScaleInterval()\n",
    "(imin,imax) = interval.get_limits(image_data)\n",
    "plt.imshow(image_data, vmin=imin,vmax=imax)\n",
    "plt.colorbar()\n",
    "apertures.plot(color='blue')\n",
    "bkg_apertures.plot(color='cyan', hatch='//', alpha=0.8)"
   ]
  },
  {
   "cell_type": "code",
   "execution_count": null,
   "metadata": {},
   "outputs": [],
   "source": [
    "# measure the aperture sum for the star\n",
    "phot = aperture_photometry(image_data, apertures,error=error)"
   ]
  },
  {
   "cell_type": "code",
   "execution_count": null,
   "metadata": {},
   "outputs": [],
   "source": [
    "#It turns out that the best measurement of the backgroud for photometry is not the mean, but rather the mode\n",
    "def getBackground(image_data, apertures):\n",
    "    bkgs = list()\n",
    "    for m in apertures.to_mask('center'):\n",
    "        inc_pix = m.cutout(image_data)[m.cutout(image_data) *m.data >0]\n",
    "        mode_bak = scipy.stats.mode(inc_pix)\n",
    "        bkgs.append(float(mode_bak[0]))\n",
    "    return np.array(bkgs)"
   ]
  },
  {
   "cell_type": "code",
   "execution_count": null,
   "metadata": {},
   "outputs": [],
   "source": [
    "#Get the mode of the background for each stars\n",
    "bkg_mode = getBackground(image_data,bkg_apertures)\n",
    "print(bkg_mode)"
   ]
  },
  {
   "cell_type": "code",
   "execution_count": null,
   "metadata": {},
   "outputs": [],
   "source": [
    "# now calculate the total background in the circular aperture\n",
    "bkg_sum = bkg_mode * apertures.area()\n",
    "\n",
    "phot['bkg_sum'] = bkg_sum\n",
    "phot"
   ]
  },
  {
   "cell_type": "code",
   "execution_count": null,
   "metadata": {},
   "outputs": [],
   "source": [
    "# subtract the background\n",
    "flux_bkgsub = phot['aperture_sum'] - bkg_sum\n",
    "\n",
    "phot['aperture_sum_bkgsub'] = flux_bkgsub\n",
    "phot"
   ]
  },
  {
   "cell_type": "markdown",
   "metadata": {},
   "source": [
    "## Convert to Magnitudes\n",
    "The final step is to convert to magnitudes. Note I am being very loose with some of the errors. We are only including Poisson error at the moment."
   ]
  },
  {
   "cell_type": "code",
   "execution_count": null,
   "metadata": {},
   "outputs": [],
   "source": [
    "zpt = 25.\n",
    "mag = zpt - 2.5*np.log10(phot['aperture_sum_bkgsub']) + 2.5*np.log10(exptime)\n",
    "merr = 1.0857 *phot['aperture_sum_err']/phot['aperture_sum_bkgsub']\n",
    "phot['Mag'] = mag\n",
    "phot['Mag_err'] = merr\n",
    "phot"
   ]
  },
  {
   "cell_type": "markdown",
   "metadata": {},
   "source": [
    "## Now it is your turn.\n",
    "Find the magnitude for the three bright stars in the lower left corner of the image."
   ]
  },
  {
   "cell_type": "code",
   "execution_count": null,
   "metadata": {},
   "outputs": [],
   "source": []
  }
 ],
 "metadata": {
  "kernelspec": {
   "display_name": "Python 3",
   "language": "python",
   "name": "python3"
  },
  "language_info": {
   "codemirror_mode": {
    "name": "ipython",
    "version": 3
   },
   "file_extension": ".py",
   "mimetype": "text/x-python",
   "name": "python",
   "nbconvert_exporter": "python",
   "pygments_lexer": "ipython3",
   "version": "3.6.6"
  }
 },
 "nbformat": 4,
 "nbformat_minor": 1
}
