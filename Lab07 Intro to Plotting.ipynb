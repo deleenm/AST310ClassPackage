{
 "cells": [
  {
   "cell_type": "markdown",
   "metadata": {},
   "source": [
    "# Lab 7: Intro to Plotting\n",
    "The purpose of this lab is to explore how to make simple plots in Python. In later labs we will explore more advanced plotting techniques, but for now our goal is to be able to do some everyday plots with our data. I relied heavily on the Matplotlib Pyplot Tutorial (https://matplotlib.org/tutorials/introductory/pyplot.html#sphx-glr-tutorials-introductory-pyplot-py)."
   ]
  },
  {
   "cell_type": "markdown",
   "metadata": {},
   "source": [
    "Name:"
   ]
  },
  {
   "cell_type": "markdown",
   "metadata": {},
   "source": [
    "## Setting things up\n",
    "There are a number of new imports we need to do in order to create plots. All of the plotting we will do in this class uses the module **Matplotlib** [https://matplotlib.org/]. This module gives us access to a huge array of different plotting tools. Matplotlib is so tightly interwoven with Python notebooks that there is a special set of magic keywords associated with it. All magic keywords are precedded with a %. The one we will use is called `%matplotlib inline`. It allows us to display plots directly in the notebook without issue."
   ]
  },
  {
   "cell_type": "code",
   "execution_count": null,
   "metadata": {
    "collapsed": true
   },
   "outputs": [],
   "source": [
    "import numpy as np\n",
    "from astropy.table import Table\n",
    "from astropy import units as u\n",
    "\n",
    "from matplotlib import pyplot as plt #Our new imports\n",
    "#The matplotlib magic. Don't forget this in new notebooks\n",
    "%matplotlib inline "
   ]
  },
  {
   "cell_type": "markdown",
   "metadata": {},
   "source": [
    "# Simple Plots\n",
    "The simplest plots are just line or scatter plots. Generally you start with an x array and a y array for your points."
   ]
  },
  {
   "cell_type": "code",
   "execution_count": null,
   "metadata": {
    "collapsed": true
   },
   "outputs": [],
   "source": [
    "x = np.array([1,2,3,4,5])\n",
    "y = 1.5*x+2\n",
    "plt.plot(x,y)\n",
    "plt.xlabel('My X-axis')\n",
    "plt.ylabel('My Y-Axis')\n",
    "plt.show() #This is only necessary if plotting is not the last thing in the code cell."
   ]
  },
  {
   "cell_type": "markdown",
   "metadata": {},
   "source": [
    "We can plot more than one thing on a plot at a time. All we have to do is issue more ploting commands. I can control the color and type of the line using a format string.  The format string consists of a color and a style. In python notebooks, we should use `plt.tight_layout()` instead of `plt.show()` because it causes everything to fit, especially with multiplots."
   ]
  },
  {
   "cell_type": "code",
   "execution_count": null,
   "metadata": {
    "collapsed": true
   },
   "outputs": [],
   "source": [
    "x = np.linspace(0, 2, 20) #Create 20 linearly space points from (0,2)\n",
    "\n",
    "plt.plot(x, x,'r-.') #Red line dash-dot\n",
    "plt.plot(x, x**2,'g-') #Green line normal\n",
    "plt.plot(x, x**3,'b--') #Blue line dashed\n",
    "\n",
    "plt.xlabel('x')\n",
    "plt.ylabel('y')\n",
    "\n",
    "plt.tight_layout() "
   ]
  },
  {
   "cell_type": "markdown",
   "metadata": {},
   "source": [
    "We can also add Titles, legends and use points instead of lines."
   ]
  },
  {
   "cell_type": "code",
   "execution_count": null,
   "metadata": {
    "collapsed": true
   },
   "outputs": [],
   "source": [
    "x = np.linspace(0, 2, 20) #Create 20 linearly space points from (0,2)\n",
    "\n",
    "plt.plot(x, x,'c.', label=\"Linear\") #Cyan line dash-dot\n",
    "plt.plot(x, x**2,'mo', label=\"Quadratic\") #Magenta line normal\n",
    "plt.plot(x, x**3,'k^', label=\"Cubic\") #Black line dashed\n",
    "\n",
    "plt.xlabel('x')\n",
    "plt.ylabel('y')\n",
    "plt.title(\"Fancy Plot\")\n",
    "plt.legend()\n",
    "\n",
    "plt.tight_layout() "
   ]
  },
  {
   "cell_type": "markdown",
   "metadata": {},
   "source": [
    "## Now it is your turn\n",
    "Create a plot of sin(x) and cos(x) going from 0 to $2\\pi$. Be sure to include a legend."
   ]
  },
  {
   "cell_type": "code",
   "execution_count": null,
   "metadata": {
    "collapsed": true
   },
   "outputs": [],
   "source": []
  },
  {
   "cell_type": "markdown",
   "metadata": {},
   "source": [
    "## Multiple plots\n",
    "Sometimes you want to have more than one plot at a time. You can use the `plt.subplot` to help you out. The order of arguements is (num_ver,num_hor,plot_num). You need to give all the plot elements for each plot (`xlabel`,`title`,etc)."
   ]
  },
  {
   "cell_type": "code",
   "execution_count": null,
   "metadata": {
    "collapsed": true
   },
   "outputs": [],
   "source": [
    "plt.subplot(311)\n",
    "x = np.linspace(0, 2, 20) #Create 20 linearly space points from (0,2)\n",
    "\n",
    "plt.plot(x, x,'r.-')\n",
    "plt.ylabel('y')\n",
    "plt.title('Red Line')\n",
    "\n",
    "plt.subplot(312)\n",
    "plt.plot(x, x**2,c='green', marker='*', ls='None')\n",
    "plt.ylabel('y')\n",
    "plt.title('Green Line')\n",
    "\n",
    "plt.subplot(313)\n",
    "plt.plot(x, x**3,c='darkorange',ls=':')\n",
    "plt.xlabel('x')\n",
    "plt.ylabel('y')\n",
    "plt.title('Orange Line')\n",
    "\n",
    "plt.tight_layout()"
   ]
  },
  {
   "cell_type": "markdown",
   "metadata": {},
   "source": [
    "## Controlling the axis\n",
    "You can alos make plots with logarithmic axis and control the x and y limits of the axis."
   ]
  },
  {
   "cell_type": "code",
   "execution_count": null,
   "metadata": {
    "collapsed": true
   },
   "outputs": [],
   "source": [
    "plt.subplot(221)\n",
    "x = np.linspace(-2, 30, 25) #Create 20 linearly space points from (0,2)\n",
    "\n",
    "plt.plot(x, x,'r.')\n",
    "plt.ylabel('y')\n",
    "\n",
    "plt.subplot(222)\n",
    "plt.plot(x, x**2,c='green', marker='*', ls='None')\n",
    "plt.xlim(-5,8)\n",
    "plt.ylim(-10,25)\n",
    "\n",
    "plt.subplot(223)\n",
    "plt.plot(x, x**3,c='darkorange',ls=':')\n",
    "plt.xlabel('x')\n",
    "plt.ylabel('y')\n",
    "plt.yscale('symlog') #Handles the range around 0 in linear coordinates.\n",
    "\n",
    "plt.subplot(224)\n",
    "plt.plot(x, x**4,c='purple',marker='o')\n",
    "plt.yscale('log')\n",
    "plt.xlabel('x')\n",
    "\n",
    "plt.tight_layout()"
   ]
  },
  {
   "cell_type": "markdown",
   "metadata": {},
   "source": [
    "## Data with Errorbars\n",
    "Let's read in some data and add errorbars to the plot. The method `plt.errorbar` gives one access to the keywords `xerr` and `yerr`. Note that `plt.show()` is better with a `suptitle`. Mulitpolots always take some effort to get right."
   ]
  },
  {
   "cell_type": "code",
   "execution_count": null,
   "metadata": {
    "collapsed": true
   },
   "outputs": [],
   "source": [
    "hip_tab = Table.read('data/hip_tiny.csv')\n",
    "print(hip_tab.columns) #Print the columns of the table\n",
    "\n",
    "plt.subplot(1,2,1)\n",
    "plt.errorbar(hip_tab['V (mag)'],hip_tab['Plx (milliarcsec)'],xerr=hip_tab['err_V'],yerr=hip_tab['err_Plx'],fmt='b+')\n",
    "plt.xlabel('V (mag)')\n",
    "plt.ylabel('Plx (mas)')\n",
    "\n",
    "plt.subplot(1,2,2)\n",
    "plt.errorbar(hip_tab['V (mag)'],hip_tab['Plx (milliarcsec)'],yerr=hip_tab['err_Plx'],fmt='go',capsize=4)\n",
    "plt.xlabel('V (mag)')\n",
    "plt.suptitle(\"Two Plots\")\n",
    "plt.show()"
   ]
  },
  {
   "cell_type": "markdown",
   "metadata": {},
   "source": [
    "## Histograms\n",
    "When plot large amounts of data you often want to use a histogram. A histogram is when you take data and you put it into a series of bins. The x-axis is the value you are histogramming and the y-axis is the number of items in each bin. The number of bins you use is up to you, if you set bins to `'auto'`, it will use an algorithm to find the best number of bins. It is worth noting that you want enough bins to see what is happening in the data, but not so many that you have to few objects in each bin. Usage: `plt.hist(data,bins,keywords)`. You can also add text to your plot. When using text put an `r'text'` means raw string. We use that if we don't want to use things like `\\n`. If you include `$TeX formating$` you can use TeX math formating to give fancy symbols."
   ]
  },
  {
   "cell_type": "code",
   "execution_count": null,
   "metadata": {
    "collapsed": true
   },
   "outputs": [],
   "source": [
    "mu, sigma = 100, 15\n",
    "x = mu + sigma * np.random.randn(10000) #Generate some Gaussian normal data\n",
    "\n",
    "plt.hist(x,50,range=(20,160),color=\"#58ACFA\",edgecolor='black')\n",
    "plt.text(25, 500, r'Gaussian: $\\mu={}$'.format(mu)) #Using Data coordinates\n",
    "plt.text(.215,.57,r'$\\sigma={}$'.format(sigma),transform=plt.gca().transAxes) #Using axes coordinates (0,0) to (1,1)\n",
    "plt.tight_layout()"
   ]
  },
  {
   "cell_type": "markdown",
   "metadata": {},
   "source": [
    "## Your Turn\n",
    "Take the data from /data/hip_small.csv and make 2 histograms side by side horizontally. The first histogram should be of B (mag) and the other V (mag). Write the max, mean and min of the data set on each plot."
   ]
  },
  {
   "cell_type": "code",
   "execution_count": null,
   "metadata": {
    "collapsed": true
   },
   "outputs": [],
   "source": []
  }
 ],
 "metadata": {
  "kernelspec": {
   "display_name": "Python 3",
   "language": "python",
   "name": "python3"
  },
  "language_info": {
   "codemirror_mode": {
    "name": "ipython",
    "version": 3
   },
   "file_extension": ".py",
   "mimetype": "text/x-python",
   "name": "python",
   "nbconvert_exporter": "python",
   "pygments_lexer": "ipython3",
   "version": "3.6.6"
  }
 },
 "nbformat": 4,
 "nbformat_minor": 2
}
