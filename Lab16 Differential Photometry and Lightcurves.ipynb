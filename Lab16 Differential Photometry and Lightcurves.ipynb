{
 "cells": [
  {
   "cell_type": "markdown",
   "metadata": {},
   "source": [
    "# Lab 15: Differential Photometry and Lightcurves\n",
    "This lab will demonstrate how to go from a series of aperture photometry tables to a lightcurve."
   ]
  },
  {
   "cell_type": "code",
   "execution_count": null,
   "metadata": {},
   "outputs": [],
   "source": [
    "# initial imports\n",
    "import numpy as np\n",
    "import matplotlib.pyplot as plt\n",
    "from astropy.table import Table\n",
    "import astropy.units as u\n",
    "\n",
    "# run the %matplotlib magic command to enable inline plotting\n",
    "# in the current Notebook\n",
    "%matplotlib inline"
   ]
  },
  {
   "cell_type": "markdown",
   "metadata": {},
   "source": [
    "## Lightcurves\n",
    "One of the most fundamental tools to undertanding a variable object whether it be a variable star, transiting exoplanet, or a supernova is to look at its lightcurve. Time Series Data is data taken over a multiple measurements (or epochs) with the expectation that the measurment will change in time. All time series data has the same general form: \n",
    "\n",
    "Date1 Measurement1 Measurement1_error<br /> \n",
    "Date2 Measurement2 Measurement2_error<br />\n",
    "Date3 Measurement3 Measurement3_error<br />\n",
    "etc\n",
    "\n",
    "The dates are almost always in a Julian Date format, and these days most people use either Heliocentric or Barycentric Julian Dates (HJD or BJD). For lightcurves the measurment is either in flux or magnitudes.\n",
    "\n",
    "An Example lightcurve is below:"
   ]
  },
  {
   "cell_type": "code",
   "execution_count": null,
   "metadata": {},
   "outputs": [],
   "source": [
    "lightcurve = Table.read('data/SW_And_V.cur',format='ascii',names=('JD','Vmag','Vmag_err'))\n",
    "plt.plot(lightcurve['JD']-2400000.5,lightcurve['Vmag'],'o')\n",
    "plt.xlabel('MJD') #Plotting an MJD just to avoid large numbers.\n",
    "plt.ylabel('V Magnitude')\n",
    "plt.gca().invert_yaxis() #Magnitudes are upside down\n",
    "plt.show()"
   ]
  },
  {
   "cell_type": "markdown",
   "metadata": {},
   "source": [
    "## Differential Photometry\n",
    "There are many different ways to measure flux or magnitudes but the one we are most interested in for our measurements is differential photometry. The idea behind differential photometry is that if you take an image of multiple stars, then all those stars are going to be affected by the same outside factors (e.g. transparency, seeing, clouds etc.). By comparing our target star to comparison stars in the same frame, we can remove many of these outside factors.\n",
    "\n",
    "There are different methods of doing differential photometry, the one we will use is called relative flux. Let's say that we a target star T, and three comparison stars A, B, and C. $T_{flux}$ will just be the sky subtracted flux in electrons from the target. Likewise for $A_{flux}$, $B_{flux}$, and $C_{flux}$. Our relative flux of, $T_{rel}$ is then:\n",
    "\n",
    "$T_{rel} = \\frac{T_{flux}}{A_{flux} + B_{flux} + C_{flux}}$ \n",
    "\n",
    "If we want, we can normalize the flux by dividing each $T_{rel}$ by the first value **Fix Nomenclature for $T1_{rel}$ the constant (denominator)**\n",
    "\n",
    "$T1_{norm} = \\frac{T1_{rel}}{T1_{rel}}$ <br />\n",
    "$T2_{norm} = \\frac{T2_{rel}}{T1_{rel}}$ <br />\n",
    "$T3_{norm} = \\frac{T3_{rel}}{T1_{rel}}$ <br />\n",
    "etc.\n",
    "\n",
    "If none of the stars are variable then the normalized fluxes will all equal 1.\n",
    "\n",
    "We can also find the error in the relative flux, $T1_{rel,err}$ by using standard error propagation. Let $T1_{err}$, $A1_{err}$, $B1_{err}$, and $C1_{err}$ be the sky subtraced errors from you apeture photometry. Then:\n",
    "\n",
    "$T1_{rel,err} = \\sqrt{ T1_{rel}^2 \\times \\left(\\frac{T1_{err}^2}{T1_{flux}^2} + \\frac{A1_{err}^2 + B1_{err}^2 + C1_{err}^2}{(A1_{flux} + B1_{flux} + C1_{flux})^2} \\right)}$ \n",
    "\n",
    "The normalized error, $T1_{norm,err}$, is just \n",
    "\n",
    "$T1_{norm,err} = \\frac{T1_{rel,err}}{T1_{rel}}$ <br />\n",
    "$T2_{norm,err} = \\frac{T2_{rel,err}}{T1_{rel}}$ <br />\n",
    "$T3_{norm,err} = \\frac{T3_{rel,err}}{T1_{rel}}$ <br />\n",
    "etc.\n",
    "\n",
    "since $T1_{rel}$ is a normalization constant in this situation and thus has no error associated with it."
   ]
  },
  {
   "cell_type": "markdown",
   "metadata": {},
   "source": [
    "# Load in Photometry Data\n",
    "I have saved my apeture photometry into a csv file with the colums $HJD$, $T_{flux}$, $T_{err}$, $A_{flux}$, $A_{err}$, $B_{flux}$, $B_{err}$, $C_{flux}$, $C_{err}$ "
   ]
  },
  {
   "cell_type": "code",
   "execution_count": null,
   "metadata": {},
   "outputs": [],
   "source": [
    "phot_tab = Table.read('data/AV_Peg24_V.csv')\n",
    "phot_tab"
   ]
  },
  {
   "cell_type": "markdown",
   "metadata": {},
   "source": [
    "## Determine my normalized flux"
   ]
  },
  {
   "cell_type": "code",
   "execution_count": null,
   "metadata": {},
   "outputs": [],
   "source": [
    "t_rel = phot_tab['Source-Sky_T']/ (phot_tab['Source-Sky_A'] +phot_tab['Source-Sky_B']+phot_tab['Source-Sky_C'])\n",
    "t_rel"
   ]
  },
  {
   "cell_type": "code",
   "execution_count": null,
   "metadata": {},
   "outputs": [],
   "source": [
    "t_norm = t_rel / t_rel[0]\n",
    "t_norm"
   ]
  },
  {
   "cell_type": "code",
   "execution_count": null,
   "metadata": {},
   "outputs": [],
   "source": [
    "t_rel_err = np.sqrt( t_rel**2 * ((phot_tab['Source_Error_T']/phot_tab['Source-Sky_T'])**2 + (\n",
    "    phot_tab['Source_Error_A']**2 + phot_tab['Source_Error_B']**2+ phot_tab['Source_Error_C']**2)/\n",
    "                    (phot_tab['Source-Sky_A'] + phot_tab['Source-Sky_B']+ phot_tab['Source-Sky_C'])**2))\n",
    "t_rel_err"
   ]
  },
  {
   "cell_type": "code",
   "execution_count": null,
   "metadata": {},
   "outputs": [],
   "source": [
    "t_norm_err = t_rel_err / t_rel[0]\n",
    "t_norm_err"
   ]
  },
  {
   "cell_type": "markdown",
   "metadata": {},
   "source": [
    "## Create my Lightcurve"
   ]
  },
  {
   "cell_type": "code",
   "execution_count": null,
   "metadata": {},
   "outputs": [],
   "source": [
    "lightcurve_tab = Table()\n",
    "lightcurve_tab['HJD'] = phot_tab['HJD']\n",
    "lightcurve_tab['Flux'] = t_norm\n",
    "lightcurve_tab['Flux_Err'] = t_norm_err\n",
    "lightcurve_tab"
   ]
  },
  {
   "cell_type": "markdown",
   "metadata": {},
   "source": [
    "## Plot the lightcurve"
   ]
  },
  {
   "cell_type": "code",
   "execution_count": null,
   "metadata": {},
   "outputs": [],
   "source": [
    "plt.errorbar(lightcurve_tab['HJD'] - 2454313\n",
    "             ,lightcurve_tab['Flux'],yerr=lightcurve_tab['Flux_Err'],fmt='b.',label=\"Data\")\n",
    "plt.ylabel('Normalized Flux')\n",
    "plt.xlabel(\"HJD - 2454313\")\n",
    "plt.gca().axvline(2454313.756 - 2454313,linestyle=\"--\",label='Maximum Light') #Plot line at the maximum \n",
    "plt.legend()\n",
    "plt.show()"
   ]
  },
  {
   "cell_type": "markdown",
   "metadata": {},
   "source": [
    "## Check your Calibrations\n",
    "It is always good to check that your calibration stars look good. You may find that one of them is not as good as the others, and then you may want to use a different star."
   ]
  },
  {
   "cell_type": "code",
   "execution_count": null,
   "metadata": {},
   "outputs": [],
   "source": [
    "C_A = phot_tab['Source-Sky_A']/ (phot_tab['Source-Sky_B']+phot_tab['Source-Sky_C'])\n",
    "C_A_norm  = C_A / C_A[0]\n",
    "C_B = phot_tab['Source-Sky_B']/ (phot_tab['Source-Sky_A']+phot_tab['Source-Sky_C'])\n",
    "C_B_norm  = C_B / C_B[0]\n",
    "C_C = phot_tab['Source-Sky_C']/ (phot_tab['Source-Sky_A']+phot_tab['Source-Sky_B'])\n",
    "C_C_norm  = C_C / C_C[0]"
   ]
  },
  {
   "cell_type": "code",
   "execution_count": null,
   "metadata": {},
   "outputs": [],
   "source": [
    "plt.plot(lightcurve_tab['HJD'] - 2454313,C_A_norm,'.',label=\"Calib A\") \n",
    "plt.plot(lightcurve_tab['HJD'] - 2454313,C_B_norm -.2,'.',label=\"Calib B\") #Adding small shift to separate on Graph\n",
    "plt.plot(lightcurve_tab['HJD'] - 2454313,C_C_norm -.4,'.',label=\"Calib C\") #Adding small shift to separate on Graph\n",
    "plt.ylabel('Normalized Flux')\n",
    "plt.xlabel(\"HJD - 2454313\")\n",
    "plt.ylim(0.3,1.1)\n",
    "plt.gca().legend(loc='center left', bbox_to_anchor=(1, 0.5))\n",
    "plt.show()"
   ]
  },
  {
   "cell_type": "markdown",
   "metadata": {},
   "source": [
    "Clearly my C calibration star is significantly worse than my A and B stars. In this case, it might not be bad enough to throw it out, but it might be worth looking for another calibration star."
   ]
  },
  {
   "cell_type": "code",
   "execution_count": null,
   "metadata": {},
   "outputs": [],
   "source": []
  }
 ],
 "metadata": {
  "kernelspec": {
   "display_name": "Python 3",
   "language": "python",
   "name": "python3"
  },
  "language_info": {
   "codemirror_mode": {
    "name": "ipython",
    "version": 3
   },
   "file_extension": ".py",
   "mimetype": "text/x-python",
   "name": "python",
   "nbconvert_exporter": "python",
   "pygments_lexer": "ipython3",
   "version": "3.7.10"
  }
 },
 "nbformat": 4,
 "nbformat_minor": 1
}
