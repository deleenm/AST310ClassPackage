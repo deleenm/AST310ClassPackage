{
 "cells": [
  {
   "cell_type": "markdown",
   "metadata": {},
   "source": [
    "# Lab 10: Working with FITS files\n",
    "Based on the astropy tutorial http://docs.astropy.org/en/stable/io/fits/"
   ]
  },
  {
   "cell_type": "markdown",
   "metadata": {},
   "source": [
    "Name:"
   ]
  },
  {
   "cell_type": "markdown",
   "metadata": {},
   "source": [
    "## FITS Files\n",
    "FITS (Flexible Image Transport System) is a portable file standard widely used in the astronomy community to store images and tables. A fits file generally contains two major pieces of information the **Header** and **Data/Table**."
   ]
  },
  {
   "cell_type": "markdown",
   "metadata": {},
   "source": [
    "## Loading a FITS File\n",
    "\n",
    "FITS files can store more than one image/table and header. An HDU (Header Data Unit) is the highest level component of the FITS file structure, consisting of a header and (typically) a data array or table. When you open a fits file, you get a list of HDUs. YOu can see information about each HDU by using .info()"
   ]
  },
  {
   "cell_type": "code",
   "execution_count": null,
   "metadata": {},
   "outputs": [],
   "source": [
    "from astropy.io import fits\n",
    "import numpy as np\n",
    "import matplotlib.pyplot as plt\n",
    "# change some default plotting parameters\n",
    "import matplotlib as mpl\n",
    "mpl.rcParams['image.origin'] = 'lower'\n",
    "mpl.rcParams['image.cmap'] = 'Greys_r'\n",
    "%matplotlib inline"
   ]
  },
  {
   "cell_type": "code",
   "execution_count": null,
   "metadata": {},
   "outputs": [],
   "source": [
    "hdulist = fits.open('data/aa_aql0007_raw.fits')\n",
    "hdulist.info()\n",
    "#Use hdulist.close() when you are done with the file"
   ]
  },
  {
   "cell_type": "markdown",
   "metadata": {},
   "source": [
    "## FITS Header\n",
    "If you are unfamiliar with the FITS file you can always look at the header. Header information is stored in the .header attribute for each HDU in your list."
   ]
  },
  {
   "cell_type": "code",
   "execution_count": null,
   "metadata": {},
   "outputs": [],
   "source": [
    "prihdr = hdulist[0].header\n",
    "print(repr(prihdr))"
   ]
  },
  {
   "cell_type": "markdown",
   "metadata": {},
   "source": [
    "The Header is filled with keyword value comment groups. You can get a list of the keys, and pick out specific keys if you want. You can reference them by name or by location."
   ]
  },
  {
   "cell_type": "code",
   "execution_count": null,
   "metadata": {},
   "outputs": [],
   "source": [
    "print(list(prihdr.keys()))\n",
    "print(\"My Object: {}\".format(prihdr['OBJECT']))\n",
    "print(\"My Object: {}\".format(prihdr[25]))"
   ]
  },
  {
   "cell_type": "markdown",
   "metadata": {},
   "source": [
    "## Adding to or Updating a Header.\n",
    "Headers are stored as dictionaries, so you can create a new value or update a value just by an assignment operation.  You can update the value and the comment at the same time by using a tuple.\n",
    "\n",
    "\n",
    "Be careful about **Comment or History keywords**. There tend to be multiple of them in headers, so you have to reference them by location. Also, when you assign a comment or history it automatically creates a new comment block."
   ]
  },
  {
   "cell_type": "code",
   "execution_count": null,
   "metadata": {},
   "outputs": [],
   "source": [
    "prihdr['Num_Monk'] = (20,\"Fun Times!\")\n",
    "print(list(prihdr.keys()))\n"
   ]
  },
  {
   "cell_type": "markdown",
   "metadata": {},
   "source": [
    "## Now its your turn\n",
    "Convert the RA and DEC for this object into degrees, and create two new keys ra_deg and dec_deg."
   ]
  },
  {
   "cell_type": "code",
   "execution_count": null,
   "metadata": {},
   "outputs": [],
   "source": []
  },
  {
   "cell_type": "code",
   "execution_count": null,
   "metadata": {},
   "outputs": [],
   "source": [
    "## Accessing Image Data\n",
    "image_data = hdulist[0].data"
   ]
  },
  {
   "cell_type": "markdown",
   "metadata": {},
   "source": [
    "## Displaying Data\n",
    "There are two ways to display an image. The first is using the command line tool Ds9. At the command prompt type ds9 imagename. Ds9 is a powerful tool for analyzing image data. It can handle multiple hdu and has a useful interface. \n",
    "\n",
    "You can also view the image in python."
   ]
  },
  {
   "cell_type": "code",
   "execution_count": null,
   "metadata": {},
   "outputs": [],
   "source": [
    "plt.figure()\n",
    "plt.imshow(image_data)\n",
    "plt.colorbar()"
   ]
  },
  {
   "cell_type": "markdown",
   "metadata": {},
   "source": [
    "We need to fix the min and max values to something more reasonable."
   ]
  },
  {
   "cell_type": "code",
   "execution_count": null,
   "metadata": {},
   "outputs": [],
   "source": [
    "from astropy.visualization import ZScaleInterval\n",
    "interval = ZScaleInterval()\n",
    "(imin,imax) = interval.get_limits(image_data)\n",
    "plt.imshow(image_data, vmin=imin,vmax=imax)\n",
    "plt.colorbar()"
   ]
  },
  {
   "cell_type": "markdown",
   "metadata": {},
   "source": [
    "## Getting Values\n",
    "The image arrays are stored an 2d numpy arrays, so they can be manipulated in the same way. **Be careful**, the x and y in astropy image data are reversed compared to ds9! Also, ds9 starts at pixel [1,1] and astropy starts at [0,0]. I can cut-out regions using [miny:maxy,minx:maxx]."
   ]
  },
  {
   "cell_type": "code",
   "execution_count": null,
   "metadata": {},
   "outputs": [],
   "source": [
    "small_image = image_data[0:130,0:220]\n",
    "print(small_image.shape)\n",
    "(imin,imax) = interval.get_limits(small_image)\n",
    "plt.imshow(small_image, vmin=imin,vmax=imax)\n",
    "plt.colorbar()"
   ]
  },
  {
   "cell_type": "code",
   "execution_count": null,
   "metadata": {},
   "outputs": [],
   "source": [
    "print(image_data[61,60])"
   ]
  },
  {
   "cell_type": "markdown",
   "metadata": {},
   "source": [
    "Your turn. What pixel in ds9 has the same value as 61,60?"
   ]
  },
  {
   "cell_type": "markdown",
   "metadata": {},
   "source": [
    "Answer:"
   ]
  },
  {
   "cell_type": "markdown",
   "metadata": {},
   "source": [
    "## Image Correction\n",
    "Last week we discussed processing an image so that it can be used for photometry."
   ]
  },
  {
   "cell_type": "code",
   "execution_count": null,
   "metadata": {},
   "outputs": [],
   "source": [
    "hdulist.close() #Clean things up.\n",
    "hdulist = fits.open('data/aa_aql0007_raw.fits')\n",
    "image_data = hdulist[0].data\n",
    "image_hdr = hdulist[0].header"
   ]
  },
  {
   "cell_type": "markdown",
   "metadata": {},
   "source": [
    "## Bias Subtraction\n",
    "The first step is to remove a bias from our image. In some cases, bias frames are called zeroes."
   ]
  },
  {
   "cell_type": "code",
   "execution_count": null,
   "metadata": {},
   "outputs": [],
   "source": [
    "bias = fits.open('data/Zero.fits')\n",
    "bias_data = bias[0].data\n",
    "step1 = image_data - bias_data\n",
    "print(image_data[61,60])\n",
    "print(step1[61,60])\n",
    "image_hdr['comment'] = \"Subtracted Bias\""
   ]
  },
  {
   "cell_type": "markdown",
   "metadata": {},
   "source": [
    "## Dark Subtraction\n",
    "Step 2 is Dark Subtraction (Note each Calibration image has already had the previous step applied to it)."
   ]
  },
  {
   "cell_type": "code",
   "execution_count": null,
   "metadata": {},
   "outputs": [],
   "source": [
    "dark = fits.open('data/Dark.fits')\n",
    "dark_hdr = dark[0].header\n",
    "dark_data = dark[0].data\n",
    "step2 = step1 - dark_data\n",
    "image_hdr['comment'] = \"Subtracted Dark\"\n",
    "print(image_data[61,60])\n",
    "print(step1[61,60])\n",
    "print(step2[61,60]) #Uh-Oh something is wrong?"
   ]
  },
  {
   "cell_type": "code",
   "execution_count": null,
   "metadata": {},
   "outputs": [],
   "source": [
    "print(image_hdr['exptime'])\n",
    "print(dark_hdr['exptime'])"
   ]
  },
  {
   "cell_type": "code",
   "execution_count": null,
   "metadata": {},
   "outputs": [],
   "source": [
    "step2 = step1 - (dark_data *(image_hdr['exptime']/dark_hdr['exptime']))\n",
    "print(image_data[61,60])\n",
    "print(step1[61,60])\n",
    "print(step2[61,60]) #Much Better"
   ]
  },
  {
   "cell_type": "markdown",
   "metadata": {},
   "source": [
    "## Flat Fielding\n",
    "Step 3 is to Flat Field the image. This is a normalization so we are dividing instead of subtracting."
   ]
  },
  {
   "cell_type": "code",
   "execution_count": null,
   "metadata": {},
   "outputs": [],
   "source": [
    "flat = fits.open('data/FlatV.fits')\n",
    "flat_hdr = flat[0].header\n",
    "flat_data = flat[0].data\n",
    "print(np.average(flat_data)) #Is the average level of our Flat\n",
    "step3 = step2 / flat_data\n",
    "image_hdr['comment'] = \"Divided Flat\"\n",
    "print(image_data[61,60])\n",
    "print(step1[61,60])\n",
    "print(step2[61,60]) #Much Better\n",
    "print(step3[61,60]) #Hmmm this is a little strange"
   ]
  },
  {
   "cell_type": "markdown",
   "metadata": {},
   "source": [
    "## Save your results\n",
    "You can save your results by giving the function fits.writeto() your data and an optional header."
   ]
  },
  {
   "cell_type": "code",
   "execution_count": null,
   "metadata": {},
   "outputs": [],
   "source": [
    "fits.writeto('data/out.fits', step3, image_hdr,overwrite=True)"
   ]
  },
  {
   "cell_type": "markdown",
   "metadata": {},
   "source": [
    "## Let's Compare against a formally processed image\n",
    "In /data there is a formally reduced image called aa_aql0007.fits. Compare it to your image. How good a job did we do?\n",
    "* Open both images in ds9\n",
    "* Show the header of out.fits\n",
    "* How are the min, max, median different\n",
    "* Plot both images\n",
    "* Try dividing the images\n",
    "* Can you correct your image so that it has the same values as the processed image?\n"
   ]
  },
  {
   "cell_type": "code",
   "execution_count": null,
   "metadata": {},
   "outputs": [],
   "source": []
  }
 ],
 "metadata": {
  "kernelspec": {
   "display_name": "Python 3",
   "language": "python",
   "name": "python3"
  },
  "language_info": {
   "codemirror_mode": {
    "name": "ipython",
    "version": 3
   },
   "file_extension": ".py",
   "mimetype": "text/x-python",
   "name": "python",
   "nbconvert_exporter": "python",
   "pygments_lexer": "ipython3",
   "version": "3.6.6"
  }
 },
 "nbformat": 4,
 "nbformat_minor": 1
}
